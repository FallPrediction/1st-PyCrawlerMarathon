{
 "cells": [
  {
   "cell_type": "markdown",
   "metadata": {},
   "source": [
    "# 其他工具：Grab、PyQuery\n",
    "\n",
    "\n",
    "* 利用 Grab 套件的存取 HTML 資源\n",
    "* 利用 PyQuery 套件的解析 HTML 格式\n"
   ]
  },
  {
   "cell_type": "markdown",
   "metadata": {},
   "source": [
    "## 作業目標\n",
    "\n",
    "將之前用 requests + beatifulsoup 實作的方式，改寫成 grab + pyquery，並且比較有哪些地方不同。\n",
    "\n",
    "\n",
    "\n"
   ]
  },
  {
   "cell_type": "markdown",
   "metadata": {},
   "source": [
    "## requests + BeautifulSoup\n"
   ]
  },
  {
   "cell_type": "code",
   "execution_count": 1,
   "metadata": {},
   "outputs": [],
   "source": [
    "import requests\n",
    "from bs4 import BeautifulSoup\n",
    "#steam商店首頁\n",
    "r=requests.get('https://store.steampowered.com/')\n",
    "soup = BeautifulSoup(r.text, \"html5lib\")"
   ]
  },
  {
   "cell_type": "code",
   "execution_count": 7,
   "metadata": {},
   "outputs": [
    {
     "name": "stdout",
     "output_type": "stream",
     "text": [
      "Red Dead Redemption 2\n",
      "Age of Empires II: Definitive Edition\n",
      "NieR:Automata™\n",
      "Halo: The Master Chief Collection\n",
      "Monster Hunter World: Iceborne\n",
      "Monster Hunter World: Iceborne Digital Deluxe\n",
      "Age of Empires II: Definitive Edition + Age of Empires II (2013)\n",
      "Darksiders Genesis\n",
      "Age of Empires Definitive Edition Bundle\n",
      "Remnant: From the Ashes\n",
      "Richman10\n",
      "Euro Truck Simulator 2 - Road to the Black Sea\n",
      "Raft\n",
      "Transport Fever 2\n",
      "Tom Clancy's Rainbow Six® Siege - Year 4 Pass\n",
      "Euro Truck Simulator 2 Map Booster\n",
      "STAR WARS Jedi: Fallen Order™\n",
      "Grand Theft Auto V\n",
      "PLAYERUNKNOWN'S BATTLEGROUNDS\n",
      "Atelier Ryza: Ever Darkness & the Secret Hideout\n",
      "Total War: THREE KINGDOMS\n",
      "Tom Clancy's Rainbow Six® Siege\n",
      "DORAEMON  STORY OF SEASONS\n",
      "DRAGON QUEST BUILDERS™ 2\n",
      "Jurassic World Evolution\n",
      "SD GUNDAM G GENERATION CROSS RAYS SEASON PASS\n",
      "Destiny 2: Shadowkeep Digital Deluxe Edition\n",
      "Jurassic World Evolution: Premium Edition\n",
      "The Witcher 3: Wild Hunt - Game of the Year Edition\n",
      "CODE VEIN\n"
     ]
    }
   ],
   "source": [
    "#暢銷商品\n",
    "topsellers=soup.find(id='tab_topsellers_content').find_all(\"div\", class_=\"tab_item_name\")\n",
    "for t in topsellers:\n",
    "    print(t.text)"
   ]
  },
  {
   "cell_type": "markdown",
   "metadata": {},
   "source": [
    "## Grab + PyQuery"
   ]
  },
  {
   "cell_type": "code",
   "execution_count": 10,
   "metadata": {},
   "outputs": [],
   "source": [
    "from grab import Grab\n",
    "from pyquery import PyQuery as pq\n",
    "g = Grab()\n",
    "r = g.go('https://store.steampowered.com/')\n",
    "doc = pq(r.body)"
   ]
  },
  {
   "cell_type": "code",
   "execution_count": 16,
   "metadata": {
    "scrolled": false
   },
   "outputs": [
    {
     "name": "stdout",
     "output_type": "stream",
     "text": [
      "Red Dead Redemption 2\n",
      "Age of Empires II: Definitive Edition\n",
      "Monster Hunter World: Iceborne\n",
      "NieR:Automata™\n",
      "Monster Hunter World: Iceborne Digital Deluxe\n",
      "Halo: The Master Chief Collection\n",
      "DRAGON QUEST BUILDERS™ 2\n",
      "Age of Empires II: Definitive Edition + Age of Empires II (2013)\n",
      "Darksiders Genesis\n",
      "Remnant: From the Ashes\n",
      "Atelier Ryza: Ever Darkness & the Secret Hideout\n",
      "Richman10\n",
      "Euro Truck Simulator 2 - Road to the Black Sea\n",
      "Tom Clancy's Rainbow Six® Siege - Year 4 Pass\n",
      "Age of Empires Definitive Edition Bundle\n",
      "Transport Fever 2\n",
      "Tom Clancy's Rainbow Six® Siege\n",
      "Raft\n",
      "Dying Light Enhanced Edition\n",
      "The Witcher 3: Wild Hunt - Game of the Year Edition\n",
      "Euro Truck Simulator 2 Map Booster\n",
      "STAR WARS Jedi: Fallen Order™\n",
      "Grand Theft Auto V\n",
      "PLAYERUNKNOWN'S BATTLEGROUNDS\n",
      "Total War: THREE KINGDOMS\n",
      "DORAEMON STORY OF SEASONS\n",
      "Jurassic World Evolution\n",
      "SD GUNDAM G GENERATION CROSS RAYS SEASON PASS\n",
      "Jurassic World Evolution: Premium Edition\n",
      "Darksiders Genesis Digital Deluxe\n"
     ]
    }
   ],
   "source": [
    "for d in doc('#tab_topsellers_content')('div.tab_item_name').items():\n",
    "    print(d.text())"
   ]
  },
  {
   "cell_type": "code",
   "execution_count": null,
   "metadata": {},
   "outputs": [],
   "source": []
  }
 ],
 "metadata": {
  "kernelspec": {
   "display_name": "Python 3",
   "language": "python",
   "name": "python3"
  },
  "language_info": {
   "codemirror_mode": {
    "name": "ipython",
    "version": 3
   },
   "file_extension": ".py",
   "mimetype": "text/x-python",
   "name": "python",
   "nbconvert_exporter": "python",
   "pygments_lexer": "ipython3",
   "version": "3.7.4"
  }
 },
 "nbformat": 4,
 "nbformat_minor": 2
}
