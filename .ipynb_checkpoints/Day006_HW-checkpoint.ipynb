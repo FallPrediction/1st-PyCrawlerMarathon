{
 "cells": [
  {
   "cell_type": "markdown",
   "metadata": {},
   "source": [
    "# API 資料串接 - 以 知乎 API 實作範例\n",
    "\n",
    "\n",
    "\n",
    "* 了解知乎 API 使用方式與回傳內容\n",
    "* 撰寫程式存取 API 且添加標頭\n",
    "\n",
    "\n"
   ]
  },
  {
   "cell_type": "markdown",
   "metadata": {},
   "source": [
    "## 作業目標\n",
    "\n",
    "* 根據範例提供的 API ，完成以下問題：\n",
    "\n",
    "    1. 取出知乎問題發問時間\n",
    "    2. 取出第一筆與最後一筆回答的時間\n"
   ]
  },
  {
   "cell_type": "markdown",
   "metadata": {},
   "source": [
    "### 1. 取出知乎問題發問時間"
   ]
  },
  {
   "cell_type": "code",
   "execution_count": 10,
   "metadata": {},
   "outputs": [],
   "source": [
    "# 1. 取出知乎問題發問時間\n",
    "import requests\n",
    "from fake_useragent import UserAgent\n",
    "import datetime\n",
    "# import pandas as pd"
   ]
  },
  {
   "cell_type": "code",
   "execution_count": 6,
   "metadata": {},
   "outputs": [
    {
     "data": {
      "text/plain": [
       "'{\"data\":[{\"id\":371761258,\"type\":\"answer\",\"answer_type\":\"normal\",\"question\":{\"type\":\"question\",\"id\":271527480,\"title\":\"你为什么讨厌鸣人？\",\"question_type\":\"normal\",\"created\":1523188825,\"updated_time\":1523188825,\"url\":\"https://www.zhihu.com/api/v4/questions/271527480\",\"relationship\":{}},\"author\":{\"id\":\"6d0d4eac4f174686c17fbb0fdc643f65\",\"url_token\":\"gris-griffith\",\"name\":\"不教书的塞涅卡\",\"avatar_url\":\"https://pic2.zhimg.com/v2-5917e2c43e3e5d7f2fefbb6d2af0ef88_is.jpg\",\"avatar_url_template\":\"https://pic2.zhimg.com/v2-5917e2c43e3e5d7f2fefbb6d2af0ef88_{size}.jpg\",\"is_org\":false,\"type\":\"people\",\"url\":\"https://www.zhihu.com/api/v4/people/6d0d4eac4f174686c17fbb0fdc643f65\",\"user_type\":\"people\",\"headline\":\"男孩子就不可以是魔法少女吗？\",\"badge\":[{\"type\":\"identity\",\"description\":\"纽约大学 人类表演学硕士在读\",\"topics\":[]}],\"gender\":1,\"is_advertiser\":false,\"is_privacy\":false},\"url\":\"https://www.zhihu.com/api/v4/answers/371761258\",\"is_collapsed\":false,\"created_time\":1524214908,\"updated_time\":1524215222,\"extras\":\"\",\"is_copyable\":true,\"relationship\":{\"upvoted_followees\":[]}},{\"id\":373707838,\"type\":\"answer\",\"answer_type\":\"normal\",\"question\":{\"type\":\"question\",\"id\":271527480,\"title\":\"你为什么讨厌鸣人？\",\"question_type\":\"normal\",\"created\":1523188825,\"updated_time\":1523188825,\"url\":\"https://www.zhihu.com/api/v4/questions/271527480\",\"relationship\":{}},\"author\":{\"id\":\"f20efdf5a6107c04e8dabbb3cc046976\",\"url_token\":\"wang-zhe-12-22-75\",\"name\":\"八云的饭团\",\"avatar_url\":\"https://pic3.zhimg.com/v2-2fa60fd2859582031e2edd1b8d57f1cb_is.jpg\",\"avatar_url_template\":\"https://pic3.zhimg.com/v2-2fa60fd2859582031e2edd1b8d57f1cb_{size}.jpg\",\"is_org\":false,\"type\":\"people\",\"url\":\"https://www.zhihu.com/api/v4/people/f20efdf5a6107c04e8dabbb3cc046976\",\"user_type\":\"people\",\"headline\":\"爱好无一例外耗眼睛！\",\"badge\":[],\"gender\":1,\"is_advertiser\":false,\"is_privacy\":false},\"url\":\"https://www.zhihu.com/api/v4/answers/373707838\",\"is_collapsed\":false,\"created_time\":1524423508,\"updated_time\":1524502692,\"extras\":\"\",\"is_copyable\":true,\"relationship\":{\"upvoted_followees\":[]}},{\"id\":366917034,\"type\":\"answer\",\"answer_type\":\"normal\",\"question\":{\"type\":\"question\",\"id\":271527480,\"title\":\"你为什么讨厌鸣人？\",\"question_type\":\"normal\",\"created\":1523188825,\"updated_time\":1523188825,\"url\":\"https://www.zhihu.com/api/v4/questions/271527480\",\"relationship\":{}},\"author\":{\"id\":\"c0e1673c48e0adadc9cbdb4c0e5d20f7\",\"url_token\":\"yin-yu-48-81\",\"name\":\"饮羽\",\"avatar_url\":\"https://pic2.zhimg.com/v2-6e15451946bed8e02733791f97552d9a_is.jpg\",\"avatar_url_template\":\"https://pic2.zhimg.com/v2-6e15451946bed8e02733791f97552d9a_{size}.jpg\",\"is_org\":false,\"type\":\"people\",\"url\":\"https://www.zhihu.com/api/v4/people/c0e1673c48e0adadc9cbdb4c0e5d20f7\",\"user_type\":\"people\",\"headline\":\"火影剪辑主播。\",\"badge\":[],\"gender\":-1,\"is_advertiser\":false,\"is_privacy\":false},\"url\":\"https://www.zhihu.com/api/v4/answers/366917034\",\"is_collapsed\":false,\"created_time\":1523711770,\"updated_time\":1523731152,\"extras\":\"\",\"is_copyable\":false,\"relationship\":{\"upvoted_followees\":[]}},{\"id\":366613752,\"type\":\"answer\",\"answer_type\":\"normal\",\"question\":{\"type\":\"question\",\"id\":271527480,\"title\":\"你为什么讨厌鸣人？\",\"question_type\":\"normal\",\"created\":1523188825,\"updated_time\":1523188825,\"url\":\"https://www.zhihu.com/api/v4/questions/271527480\",\"relationship\":{}},\"author\":{\"id\":\"0\",\"url_token\":\"\",\"name\":\"匿名用户\",\"avatar_url\":\"https://pic1.zhimg.com/aadd7b895_is.jpg\",\"avatar_url_template\":\"https://pic1.zhimg.com/aadd7b895_{size}.jpg\",\"is_org\":false,\"type\":\"people\",\"url\":\"https://www.zhihu.com/api/v4/people/0\",\"user_type\":\"people\",\"headline\":\"\",\"badge\":[],\"gender\":1,\"is_advertiser\":false,\"follower_count\":0,\"is_following\":false,\"is_followed\":false,\"is_celebrity\":false,\"is_blocking\":false,\"is_blocked\":false,\"is_privacy\":false},\"url\":\"https://www.zhihu.com/api/v4/answers/366613752\",\"is_collapsed\":false,\"created_time\":1523684061,\"updated_time\":1523932401,\"extras\":\"\",\"is_copyable\":true,\"relationship\":{\"upvoted_followees\":[]}},{\"id\":378233673,\"type\":\"answer\",\"answer_type\":\"normal\",\"question\":{\"type\":\"question\",\"id\":271527480,\"title\":\"你为什么讨厌鸣人？\",\"question_type\":\"normal\",\"created\":1523188825,\"updated_time\":1523188825,\"url\":\"https://www.zhihu.com/api/v4/questions/271527480\",\"relationship\":{}},\"author\":{\"id\":\"7ed5793693da5da7e6830215de702014\",\"url_token\":\"shi-nong-47-78\",\"name\":\"桐梓荷\",\"avatar_url\":\"https://pic2.zhimg.com/v2-5dc67e6ca8cb6b746730192e77364574_is.jpg\",\"avatar_url_template\":\"https://pic2.zhimg.com/v2-5dc67e6ca8cb6b746730192e77364574_{size}.jpg\",\"is_org\":false,\"type\":\"people\",\"url\":\"https://www.zhihu.com/api/v4/people/7ed5793693da5da7e6830215de702014\",\"user_type\":\"people\",\"headline\":\"\",\"badge\":[],\"gender\":1,\"is_advertiser\":false,\"is_privacy\":false},\"url\":\"https://www.zhihu.com/api/v4/answers/378233673\",\"is_collapsed\":false,\"created_time\":1524893773,\"updated_time\":1527818860,\"extras\":\"\",\"is_copyable\":true,\"relationship\":{\"upvoted_followees\":[]}}],\"paging\":{\"is_end\":false,\"is_start\":true,\"next\":\"https://www.zhihu.com/api/v4/questions/271527480/answers?limit=5\\\\u0026offset=5\",\"previous\":\"https://www.zhihu.com/api/v4/questions/271527480/answers?limit=5\\\\u0026offset=0\",\"totals\":1456}}\\n'"
      ]
     },
     "execution_count": 6,
     "metadata": {},
     "output_type": "execute_result"
    }
   ],
   "source": [
    "ua = UserAgent()\n",
    "headers={'user-agent':ua.random}\n",
    "r=requests.get(url='https://www.zhihu.com/api/v4/questions/271527480/answers', headers=headers)\n",
    "r.text"
   ]
  },
  {
   "cell_type": "code",
   "execution_count": 16,
   "metadata": {},
   "outputs": [
    {
     "name": "stdout",
     "output_type": "stream",
     "text": [
      "2018-04-08 20:00:25\n"
     ]
    }
   ],
   "source": [
    "data=r.json()\n",
    "print(datetime.datetime.fromtimestamp(data['data'][0]['question']['created']).strftime(\"%Y-%m-%d %H:%M:%S\"))"
   ]
  },
  {
   "cell_type": "markdown",
   "metadata": {},
   "source": [
    "### 2. 取出第一筆與最後一筆回答的時間"
   ]
  },
  {
   "cell_type": "code",
   "execution_count": 21,
   "metadata": {},
   "outputs": [
    {
     "name": "stdout",
     "output_type": "stream",
     "text": [
      "第一筆答案回答時間2018-04-20 17:01:48\n",
      "最後一筆答案回答時間2018-04-28 13:36:13\n"
     ]
    }
   ],
   "source": [
    "# 2. 取出第一筆與最後一筆回答的時間\n",
    "print('第一筆答案回答時間%s' % datetime.datetime.fromtimestamp(data['data'][0]['created_time']).strftime(\"%Y-%m-%d %H:%M:%S\"))\n",
    "print('最後一筆答案回答時間%s' % datetime.datetime.fromtimestamp(data['data'][-1]['created_time']).strftime(\"%Y-%m-%d %H:%M:%S\"))"
   ]
  }
 ],
 "metadata": {
  "kernelspec": {
   "display_name": "Python 3",
   "language": "python",
   "name": "python3"
  },
  "language_info": {
   "codemirror_mode": {
    "name": "ipython",
    "version": 3
   },
   "file_extension": ".py",
   "mimetype": "text/x-python",
   "name": "python",
   "nbconvert_exporter": "python",
   "pygments_lexer": "ipython3",
   "version": "3.7.4"
  }
 },
 "nbformat": 4,
 "nbformat_minor": 2
}
