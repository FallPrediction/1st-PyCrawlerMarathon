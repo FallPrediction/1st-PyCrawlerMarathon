{
 "cells": [
  {
   "cell_type": "markdown",
   "metadata": {
    "colab_type": "text",
    "id": "I8CoX4R7VoCd"
   },
   "source": [
    "# 反爬：代理伺服器/IP\n",
    "\n",
    "* 了解「IP 黑/白名單」的反爬蟲機制\n",
    "* 「IP 黑/白名單」反爬蟲的因應策略"
   ]
  },
  {
   "cell_type": "markdown",
   "metadata": {
    "colab_type": "text",
    "id": "n-3DZ_r5VoCe"
   },
   "source": [
    "## 作業目標\n",
    "\n",
    "* 目前程式中的 proxy_ips 是手動輸入的，請根據 https://free-proxy-list.net/ 寫一個可自動化抓取可用 Proxy 的 proxy_ips。\n",
    "\n",
    "\n"
   ]
  },
  {
   "cell_type": "code",
   "execution_count": 33,
   "metadata": {},
   "outputs": [],
   "source": [
    "from bs4 import BeautifulSoup\n",
    "import requests\n",
    "from selenium import webdriver\n",
    "import random"
   ]
  },
  {
   "cell_type": "code",
   "execution_count": 34,
   "metadata": {},
   "outputs": [],
   "source": [
    "browser=webdriver.Chrome()\n",
    "browser.get('http://spys.one/en/http-proxy-list/')\n",
    "soup=BeautifulSoup(browser.page_source, \"lxml\")"
   ]
  },
  {
   "cell_type": "code",
   "execution_count": 42,
   "metadata": {},
   "outputs": [],
   "source": [
    "proxy_ips =[]"
   ]
  },
  {
   "cell_type": "code",
   "execution_count": 43,
   "metadata": {},
   "outputs": [
    {
     "data": {
      "text/plain": [
       "['203.76.149.106:8080',\n",
       " '88.255.102.19:8080',\n",
       " '91.214.61.221:51236',\n",
       " '178.250.92.18:8080',\n",
       " '109.239.255.33:8888',\n",
       " '176.235.99.114:30865',\n",
       " '81.174.11.159:47164',\n",
       " '212.117.19.215:55555',\n",
       " '212.175.167.137:80',\n",
       " '212.8.104.86:3128',\n",
       " '5.200.89.104:8080',\n",
       " '31.206.54.10:8080',\n",
       " '110.39.169.18:8080',\n",
       " '186.229.25.196:8080',\n",
       " '185.83.145.92:3128',\n",
       " '91.200.124.197:30845',\n",
       " '176.235.90.242:8080',\n",
       " '178.250.88.1:8080',\n",
       " '88.248.23.216:36426',\n",
       " '45.4.57.94:3128',\n",
       " '187.62.195.39:8080',\n",
       " '88.247.153.104:8080',\n",
       " '78.186.194.45:8080',\n",
       " '43.248.24.157:51166',\n",
       " '82.81.169.142:80',\n",
       " '212.156.55.34:8080',\n",
       " '78.188.65.105:49743',\n",
       " '180.93.14.225:8080',\n",
       " '157.245.124.217:3128',\n",
       " '200.89.174.105:3128']"
      ]
     },
     "execution_count": 43,
     "metadata": {},
     "output_type": "execute_result"
    }
   ],
   "source": [
    "fonts=soup.select('tr[onmouseover]>td:first-child>font')\n",
    "# text_nodes = [e.strip() for e in ips[0] if not e.name and e.strip()]\n",
    "# text_nodes\n",
    "for font in fonts:\n",
    "    ip=[]\n",
    "    #遍歷子節點\n",
    "    for child_node in font:\n",
    "        #如果該子節點無tag名稱\n",
    "        if not child_node.name:\n",
    "            ip.append(child_node.strip())\n",
    "    #連結ip和port\n",
    "    proxy_ips.append(':'.join(ip))\n",
    "proxy_ips"
   ]
  },
  {
   "cell_type": "code",
   "execution_count": 44,
   "metadata": {
    "colab": {},
    "colab_type": "code",
    "id": "75dIsHjiVoCi"
   },
   "outputs": [
    {
     "name": "stdout",
     "output_type": "stream",
     "text": [
      "Use 178.250.88.1:8080\n",
      "Fail\n",
      "Use 185.83.145.92:3128\n",
      "Your IP address: 185.83.145.92\n",
      "Use 88.247.153.104:8080\n",
      "Your IP address: 95.8.157.103\n",
      "Use 212.156.55.34:8080\n",
      "Your IP address: 212.156.55.34\n",
      "Use 176.235.90.242:8080\n",
      "Your IP address: 176.235.90.242\n",
      "Use 178.250.88.1:8080\n",
      "Fail\n",
      "Use 212.175.167.137:80\n",
      "Fail\n",
      "Use 203.76.149.106:8080\n",
      "Your IP address: 203.76.149.106\n",
      "Use 91.200.124.197:30845\n",
      "Fail\n",
      "Use 78.186.194.45:8080\n",
      "Fail\n"
     ]
    }
   ],
   "source": [
    "for i in range(10):\n",
    "    ip = random.choice(proxy_ips)\n",
    "    print('Use', ip)\n",
    "    try:\n",
    "        resp = requests.get('http://ip.filefab.com/index.php',\n",
    "                        proxies={'http': ip, 'https': ip}, timeout=10)\n",
    "        soup = BeautifulSoup(resp.text, 'html5lib')\n",
    "        print(soup.find('h1', id='ipd').text.strip())\n",
    "    except:\n",
    "        print('Fail')"
   ]
  },
  {
   "cell_type": "code",
   "execution_count": 45,
   "metadata": {},
   "outputs": [],
   "source": [
    "browser.close()"
   ]
  }
 ],
 "metadata": {
  "colab": {
   "name": "homework.ipynb",
   "provenance": []
  },
  "kernelspec": {
   "display_name": "Python 3",
   "language": "python",
   "name": "python3"
  },
  "language_info": {
   "codemirror_mode": {
    "name": "ipython",
    "version": 3
   },
   "file_extension": ".py",
   "mimetype": "text/x-python",
   "name": "python",
   "nbconvert_exporter": "python",
   "pygments_lexer": "ipython3",
   "version": "3.7.4"
  }
 },
 "nbformat": 4,
 "nbformat_minor": 1
}
