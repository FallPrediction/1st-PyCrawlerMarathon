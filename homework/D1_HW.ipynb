{
 "cells": [
  {
   "cell_type": "markdown",
   "metadata": {},
   "source": [
    "# 資料來源與檔案存取\n",
    "\n",
    "* 資料來源與取得\n",
    "* 開放資料\n",
    "* 資料儲存格式\n",
    "* Python 存取檔案"
   ]
  },
  {
   "cell_type": "markdown",
   "metadata": {},
   "source": [
    "## 作業目標"
   ]
  },
  {
   "cell_type": "markdown",
   "metadata": {},
   "source": [
    "* 1.（簡答題）檔案、API、爬蟲三種取得資料方式有什麼不同？\n",
    "檔案：資料提供下載，通常有csv, xlsx, json等格式\n",
    "API：程式化的連接的接口，讓工程師/分析師可以選擇資料中要讀取的特定部分，⽽而不需要把整批資料事先完整下載回來來\n",
    "爬蟲：資料沒有以檔案或 API 提供，但出現在網頁上。可以利用爬蟲程式，將網頁的資料解析所需的部分"
   ]
  },
  {
   "cell_type": "markdown",
   "metadata": {},
   "source": [
    "* 2.（實作）完成一個程式，需滿足下列需求：\n",
    "    * 下載指定檔案到 Data 資料夾，存成檔名 Homework.txt\n",
    "    * 檢查 Data 資料夾是否有 Homework.txt 檔名之檔案\n",
    "    * 將「Hello World」字串覆寫到 Homework.txt 檔案\n",
    "    * 檢查 Homework.txt 檔案字數是否符合 Hello World 字數"
   ]
  },
  {
   "cell_type": "code",
   "execution_count": 11,
   "metadata": {},
   "outputs": [],
   "source": [
    "import requests\n",
    "import os\n",
    "import sys"
   ]
  },
  {
   "cell_type": "code",
   "execution_count": 4,
   "metadata": {},
   "outputs": [],
   "source": [
    "#建立資料夾\n",
    "try:\n",
    "    os.mkdir('Data')\n",
    "except FileExistsError:\n",
    "    print('Data資料夾已存在')\n",
    "except Exception as e:\n",
    "    print(e)"
   ]
  },
  {
   "cell_type": "code",
   "execution_count": 10,
   "metadata": {},
   "outputs": [],
   "source": [
    "#下載檔案\n",
    "r=requests.get('https://www.w3.org/TR/PNG/iso_8859-1.txt')\n",
    "with open('./Data/Homework.txt', 'wb') as f:\n",
    "    f.write(r.content)"
   ]
  },
  {
   "cell_type": "code",
   "execution_count": 14,
   "metadata": {},
   "outputs": [
    {
     "name": "stdout",
     "output_type": "stream",
     "text": [
      "Homework.txt存在於Data資料夾\n"
     ]
    }
   ],
   "source": [
    "#確認檔案是否存在\n",
    "item_list=[]\n",
    "for f in os.listdir('./Data'):\n",
    "    item_list.append(f)\n",
    "if 'Homework.txt' in item_list:\n",
    "    print('Homework.txt存在於Data資料夾')\n",
    "else:\n",
    "    print('Homework.txt不存在於Data資料夾')"
   ]
  },
  {
   "cell_type": "code",
   "execution_count": 16,
   "metadata": {},
   "outputs": [],
   "source": [
    "#將「Hello World」字串覆寫到 Homework.txt 檔案\n",
    "with open('./Data/Homework.txt', 'w') as f:\n",
    "    f.write('Hello World')"
   ]
  },
  {
   "cell_type": "code",
   "execution_count": 17,
   "metadata": {},
   "outputs": [
    {
     "name": "stdout",
     "output_type": "stream",
     "text": [
      "檔案字數符合 Hello World 字數\n"
     ]
    }
   ],
   "source": [
    "#檢查 Homework.txt 檔案字數是否符合 Hello World 字數\n",
    "with open('./Data/Homework.txt', 'r') as f:\n",
    "    if len(f.read()) == len('Hello World'):\n",
    "        print('檔案字數符合 Hello World 字數')\n",
    "    else:\n",
    "        print('檔案字數不符合 Hello World 字數')"
   ]
  }
 ],
 "metadata": {
  "kernelspec": {
   "display_name": "Python 3",
   "language": "python",
   "name": "python3"
  },
  "language_info": {
   "codemirror_mode": {
    "name": "ipython",
    "version": 3
   },
   "file_extension": ".py",
   "mimetype": "text/x-python",
   "name": "python",
   "nbconvert_exporter": "python",
   "pygments_lexer": "ipython3",
   "version": "3.7.4"
  }
 },
 "nbformat": 4,
 "nbformat_minor": 2
}
