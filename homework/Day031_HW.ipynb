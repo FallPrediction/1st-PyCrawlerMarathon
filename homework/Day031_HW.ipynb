{
 "cells": [
  {
   "cell_type": "markdown",
   "metadata": {},
   "source": [
    "# 反爬：瀏覽器標頭與基本資訊\n",
    "\n",
    "\n",
    "* 了解「檢查 HTTP 標頭檔」的反爬蟲機制\n",
    "* 「檢查 HTTP 標頭檔」反爬蟲的因應策略\n"
   ]
  },
  {
   "cell_type": "markdown",
   "metadata": {},
   "source": [
    "## 作業目標\n",
    "\n",
    "* 尋找一個網站是有作 Header 檢查的（Hint: 有加跟沒有加回傳結果不一樣）\n",
    "* 用上述網站說明該如何判斷 Header 中必須加上哪些資料才會正確\n"
   ]
  },
  {
   "cell_type": "markdown",
   "metadata": {},
   "source": [
    "### 尋找一個網站是有作 Header 檢查的（Hint: 有加跟沒有加回傳結果不一樣）"
   ]
  },
  {
   "cell_type": "code",
   "execution_count": 1,
   "metadata": {},
   "outputs": [],
   "source": [
    "import requests\n",
    "from fake_useragent import UserAgent\n",
    "url='https://www.zhihu.com/api/v4/questions/271527480/answers'"
   ]
  },
  {
   "cell_type": "code",
   "execution_count": 2,
   "metadata": {},
   "outputs": [
    {
     "data": {
      "text/plain": [
       "'<html>\\r\\n<head><title>400 Bad Request</title></head>\\r\\n<body bgcolor=\"white\">\\r\\n<center><h1>400 Bad Request</h1></center>\\r\\n<hr><center>openresty</center>\\r\\n</body>\\r\\n</html>\\r\\n'"
      ]
     },
     "execution_count": 2,
     "metadata": {},
     "output_type": "execute_result"
    }
   ],
   "source": [
    "r=requests.get(url)\n",
    "r.text"
   ]
  },
  {
   "cell_type": "markdown",
   "metadata": {},
   "source": [
    "### 用上述網站說明該如何判斷 Header 中必須加上哪些資料才會正確\n"
   ]
  },
  {
   "cell_type": "code",
   "execution_count": 3,
   "metadata": {},
   "outputs": [
    {
     "data": {
      "text/plain": [
       "'{\"data\":[{\"id\":371761258,\"type\":\"answer\",\"answer_type\":\"normal\",\"question\":{\"type\":\"question\",\"id\":271527480,\"title\":\"你为什么讨厌鸣人？\",\"question_type\":\"normal\",\"created\":1523188825,\"updated_time\":1523188825,\"url\":\"https://www.zhihu.com/api/v4/questions/271527480\",\"relationship\":{}},\"author\":{\"id\":\"6d0d4eac4f174686c17fbb0fdc643f65\",\"url_token\":\"gris-griffith\",\"name\":\"不教书的塞涅卡\",\"avatar_url\":\"https://pic2.zhimg.com/v2-5917e2c43e3e5d7f2fefbb6d2af0ef88_is.jpg\",\"avatar_url_template\":\"https://pic2.zhimg.com/v2-5917e2c43e3e5d7f2fefbb6d2af0ef88_{size}.jpg\",\"is_org\":false,\"type\":\"people\",\"url\":\"https://www.zhihu.com/api/v4/people/6d0d4eac4f174686c17fbb0fdc643f65\",\"user_type\":\"people\",\"headline\":\"男孩子就不可以是魔法少女吗？\",\"badge\":[{\"type\":\"identity\",\"description\":\"纽约大学 人类表演学硕士在读\",\"topics\":[]}],\"gender\":1,\"is_advertiser\":false,\"is_privacy\":false},\"url\":\"https://www.zhihu.com/api/v4/answers/371761258\",\"is_collapsed\":false,\"created_time\":1524214908,\"updated_time\":1524215222,\"extras\":\"\",\"is_copyable\":true,\"relationship\":{\"upvoted_followees\":[]},\"ad_answer\":null},{\"id\":366493897,\"type\":\"answer\",\"answer_type\":\"normal\",\"question\":{\"type\":\"question\",\"id\":271527480,\"title\":\"你为什么讨厌鸣人？\",\"question_type\":\"normal\",\"created\":1523188825,\"updated_time\":1523188825,\"url\":\"https://www.zhihu.com/api/v4/questions/271527480\",\"relationship\":{}},\"author\":{\"id\":\"2a6832e8b03680628a4e641df4258702\",\"url_token\":\"ceng-ru-zheng\",\"name\":\"白色可乐\",\"avatar_url\":\"https://pic4.zhimg.com/da8e974dc_is.jpg\",\"avatar_url_template\":\"https://pic4.zhimg.com/da8e974dc_{size}.jpg\",\"is_org\":false,\"type\":\"people\",\"url\":\"https://www.zhihu.com/api/v4/people/2a6832e8b03680628a4e641df4258702\",\"user_type\":\"people\",\"headline\":\"\",\"badge\":[],\"gender\":-1,\"is_advertiser\":false,\"is_privacy\":false},\"url\":\"https://www.zhihu.com/api/v4/answers/366493897\",\"is_collapsed\":false,\"created_time\":1523673362,\"updated_time\":1523673362,\"extras\":\"\",\"is_copyable\":true,\"relationship\":{\"upvoted_followees\":[]},\"ad_answer\":null},{\"id\":373077003,\"type\":\"answer\",\"answer_type\":\"normal\",\"question\":{\"type\":\"question\",\"id\":271527480,\"title\":\"你为什么讨厌鸣人？\",\"question_type\":\"normal\",\"created\":1523188825,\"updated_time\":1523188825,\"url\":\"https://www.zhihu.com/api/v4/questions/271527480\",\"relationship\":{}},\"author\":{\"id\":\"07c4c3264aaa1a47069b25919e1d5f01\",\"url_token\":\"wang-liu-liu-liu\",\"name\":\"「已注销」\",\"avatar_url\":\"https://pic4.zhimg.com/da8e974dc_is.jpg\",\"avatar_url_template\":\"https://pic4.zhimg.com/da8e974dc_{size}.jpg\",\"is_org\":false,\"type\":\"people\",\"url\":\"https://www.zhihu.com/api/v4/people/07c4c3264aaa1a47069b25919e1d5f01\",\"user_type\":\"people\",\"headline\":\"\",\"badge\":[],\"gender\":0,\"is_advertiser\":false,\"is_privacy\":false},\"url\":\"https://www.zhihu.com/api/v4/answers/373077003\",\"is_collapsed\":false,\"created_time\":1524367522,\"updated_time\":1524367523,\"extras\":\"\",\"is_copyable\":true,\"relationship\":{\"upvoted_followees\":[]},\"ad_answer\":null},{\"id\":366946594,\"type\":\"answer\",\"answer_type\":\"normal\",\"question\":{\"type\":\"question\",\"id\":271527480,\"title\":\"你为什么讨厌鸣人？\",\"question_type\":\"normal\",\"created\":1523188825,\"updated_time\":1523188825,\"url\":\"https://www.zhihu.com/api/v4/questions/271527480\",\"relationship\":{}},\"author\":{\"id\":\"3ca1a75fd06572972663b8ea2107da83\",\"url_token\":\"cai-tou-chao-ren-2hao\",\"name\":\"菜头超人2号\",\"avatar_url\":\"https://pic4.zhimg.com/da8e974dc_is.jpg\",\"avatar_url_template\":\"https://pic4.zhimg.com/da8e974dc_{size}.jpg\",\"is_org\":false,\"type\":\"people\",\"url\":\"https://www.zhihu.com/api/v4/people/3ca1a75fd06572972663b8ea2107da83\",\"user_type\":\"people\",\"headline\":\"公物猿\",\"badge\":[],\"gender\":-1,\"is_advertiser\":false,\"is_privacy\":false},\"url\":\"https://www.zhihu.com/api/v4/answers/366946594\",\"is_collapsed\":false,\"created_time\":1523714240,\"updated_time\":1523714241,\"extras\":\"\",\"is_copyable\":true,\"relationship\":{\"upvoted_followees\":[]},\"ad_answer\":null},{\"id\":373707838,\"type\":\"answer\",\"answer_type\":\"normal\",\"question\":{\"type\":\"question\",\"id\":271527480,\"title\":\"你为什么讨厌鸣人？\",\"question_type\":\"normal\",\"created\":1523188825,\"updated_time\":1523188825,\"url\":\"https://www.zhihu.com/api/v4/questions/271527480\",\"relationship\":{}},\"author\":{\"id\":\"f20efdf5a6107c04e8dabbb3cc046976\",\"url_token\":\"wang-zhe-12-22-75\",\"name\":\"八云的饭团\",\"avatar_url\":\"https://pic3.zhimg.com/v2-2fa60fd2859582031e2edd1b8d57f1cb_is.jpg\",\"avatar_url_template\":\"https://pic3.zhimg.com/v2-2fa60fd2859582031e2edd1b8d57f1cb_{size}.jpg\",\"is_org\":false,\"type\":\"people\",\"url\":\"https://www.zhihu.com/api/v4/people/f20efdf5a6107c04e8dabbb3cc046976\",\"user_type\":\"people\",\"headline\":\"爱好无一例外耗眼睛！\",\"badge\":[],\"gender\":1,\"is_advertiser\":false,\"is_privacy\":false},\"url\":\"https://www.zhihu.com/api/v4/answers/373707838\",\"is_collapsed\":false,\"created_time\":1524423508,\"updated_time\":1524502692,\"extras\":\"\",\"is_copyable\":true,\"relationship\":{\"upvoted_followees\":[]},\"ad_answer\":null}],\"paging\":{\"is_end\":false,\"is_start\":true,\"next\":\"https://www.zhihu.com/api/v4/questions/271527480/answers?limit=5\\\\u0026offset=5\",\"previous\":\"https://www.zhihu.com/api/v4/questions/271527480/answers?limit=5\\\\u0026offset=0\",\"totals\":1456}}\\n'"
      ]
     },
     "execution_count": 3,
     "metadata": {},
     "output_type": "execute_result"
    }
   ],
   "source": [
    "# 用fake_useragent製造一個user-agent\n",
    "ua = UserAgent()\n",
    "headers={'user-agent':ua.random}\n",
    "r=requests.get(url=url, headers=headers)\n",
    "r.text"
   ]
  },
  {
   "cell_type": "code",
   "execution_count": null,
   "metadata": {},
   "outputs": [],
   "source": []
  }
 ],
 "metadata": {
  "kernelspec": {
   "display_name": "Python 3",
   "language": "python",
   "name": "python3"
  },
  "language_info": {
   "codemirror_mode": {
    "name": "ipython",
    "version": 3
   },
   "file_extension": ".py",
   "mimetype": "text/x-python",
   "name": "python",
   "nbconvert_exporter": "python",
   "pygments_lexer": "ipython3",
   "version": "3.7.4"
  }
 },
 "nbformat": 4,
 "nbformat_minor": 2
}
