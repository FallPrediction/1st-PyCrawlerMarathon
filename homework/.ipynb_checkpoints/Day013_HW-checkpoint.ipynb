{
 "cells": [
  {
   "cell_type": "markdown",
   "metadata": {},
   "source": [
    "# PTT 網路爬蟲實作練習\n",
    "\n",
    "\n",
    "* 能夠利用 Request + BeatifulSour 撰寫爬蟲，並存放到合適的資料結構\n"
   ]
  },
  {
   "cell_type": "markdown",
   "metadata": {},
   "source": [
    "## 作業目標\n",
    "\n",
    "根據範例 ，完成以下問題：\n",
    "\n",
    "* ① 印出最新文章的「作者」「標題」「時間」\n",
    "* ② 印出第一頁所有文章的「作者」「標題」「時間」\n"
   ]
  },
  {
   "cell_type": "code",
   "execution_count": 1,
   "metadata": {},
   "outputs": [],
   "source": [
    "import requests\n",
    "from bs4 import BeautifulSoup"
   ]
  },
  {
   "cell_type": "markdown",
   "metadata": {},
   "source": [
    "### ① 印出最新文章的「作者」「標題」「時間」"
   ]
  },
  {
   "cell_type": "code",
   "execution_count": 2,
   "metadata": {},
   "outputs": [
    {
     "name": "stdout",
     "output_type": "stream",
     "text": [
      "Re: [外絮] 老鷹球員互相抱怨自私 工作態度\n",
      "作者: pneumo (超☆冒險蓋)\n",
      "[情報] Gordon Hayward 將於後天接受MRI檢查\n",
      "作者: thnlkj0665 (灰色地帶)\n",
      "[新聞] 戴維斯無法承諾續留湖人「賽季結束再說」\n",
      "作者: currykukuo (陳菊濕汗)\n",
      "Re: [情報] Green:讓裁判吹延誤比賽無法在季後賽贏球\n",
      "作者: smallkaka (人無一善以報天)\n",
      "[公告] 板規v6.7\n",
      "[公告] 樂透取消及未來不再開啟樂透\n",
      "作者: Vedan (味丹)\n",
      "[公告] 版主上任相關事項 \n",
      "作者: qazwsx879345 (Rajon Rondo)\n",
      "[情報] SEASON Schedule 賽程 December 19–20\n",
      "作者: JerroLi (銀色小刀)\n",
      "[公告] 是否禁止記者鄭廷瑋文章投票開始\n",
      "作者: dragon803 (好想去露營啊~)\n"
     ]
    }
   ],
   "source": [
    "url = 'https://www.ptt.cc/bbs/NBA/index.html'\n",
    "r = requests.get(url)\n",
    "\n",
    "soup = BeautifulSoup(r.text, \"html5lib\")\n",
    "for d in soup.find_all(class_=\"title\"):\n",
    "    print(d.text.replace('\\t', '').replace('\\n', ''))\n",
    "    try:\n",
    "        r = BeautifulSoup(requests.get('https://www.ptt.cc'+d.find('a')['href']).text, \"html5lib\")\n",
    "        print('作者: ' + r.find(class_='article-meta-value').text)\n",
    "    except:\n",
    "        continue"
   ]
  },
  {
   "cell_type": "markdown",
   "metadata": {},
   "source": [
    "### ② 印出第一頁所有文章的「作者」「標題」「時間」"
   ]
  },
  {
   "cell_type": "code",
   "execution_count": 3,
   "metadata": {},
   "outputs": [
    {
     "name": "stdout",
     "output_type": "stream",
     "text": [
      "[轉錄]Lyotard 對於太陽板討論串的結論\n",
      "作者: Price (Price)\n",
      "[公告] 請停止一切關於本次活動的發言\n",
      "作者: Price (Price)\n",
      "[轉錄]跟之前那篇比起來 我覺得這篇也應該轉過來\n",
      "作者: Frankaze (神采風華)\n",
      "[轉錄]再轉一篇好文來\n",
      "作者: Frankaze (神采風華)\n",
      "[轉錄][情報] 夏洛特山貓系列\n",
      "作者: Price (Price)\n",
      "[轉錄]Re: [心得] 真是受不了糗爺....\n",
      "作者: Price (Price)\n",
      "[轉錄]總冠軍賽NO.2觀後感\n",
      "作者: Price (Price)\n",
      "[心得] Rasheed Wallace\n",
      "作者: AmuroNamie (原來太嗨真的會失眠^___^)\n",
      "掌控球賽的男人\n",
      "作者: toptree (  )\n",
      "[閒聊] 說說2004季後賽名場面回顧\n",
      "作者: skchang (3EB板開板囉！)\n",
      "[心得] 其實說穿了 就是活塞的防守太可怕了\n",
      "作者: shineup ()\n",
      "Re: [閒聊] 說說2004季後賽名場面回顧\n",
      "作者: cOvi (喵~)\n",
      "Re: [閒聊] 說說2004季後賽名場面回顧\n",
      "作者: ykshih (￼N￼Ns)\n",
      "Re: [閒聊] 說說2004季後賽名場面回顧\n",
      "作者: Frankaze (神采風華)\n",
      "[轉錄]Re: 總冠軍賽NO.3觀後感\n",
      "作者: Price (Price)\n",
      "[轉錄]Re: 總冠軍賽NO.3觀後感\n",
      "作者: Frankaze (神采風華)\n",
      "Re: [轉錄]Re: 總冠軍賽NO.3觀後感\n",
      "作者: star1 (第一次魔術表演不算成功)\n",
      "Re: [轉錄]Re: 總冠軍賽NO.3觀後感\n",
      "作者: coldspring (笑笑)\n",
      "Re: Kobe is frustrated...\n",
      "作者: airbear (地圖)\n",
      "Re: [轉錄]Re: 總冠軍賽NO.3觀後感\n",
      "作者: pennykidd (andre)\n"
     ]
    }
   ],
   "source": [
    "url = 'https://www.ptt.cc/bbs/NBA/index1.html'\n",
    "r = requests.get(url)\n",
    "\n",
    "soup = BeautifulSoup(r.text, \"html5lib\")\n",
    "for d in soup.find_all(class_=\"title\"):\n",
    "    print(d.text.replace('\\t', '').replace('\\n', ''))\n",
    "    try:\n",
    "        r = BeautifulSoup(requests.get('https://www.ptt.cc'+d.find('a')['href']).text, \"html5lib\")\n",
    "        print('作者: ' + r.find(class_='article-meta-value').text)\n",
    "    except:\n",
    "        continue"
   ]
  },
  {
   "cell_type": "markdown",
   "metadata": {},
   "source": [
    "### ③ 試著爬爬看其他版的文章"
   ]
  },
  {
   "cell_type": "code",
   "execution_count": 4,
   "metadata": {},
   "outputs": [
    {
     "name": "stdout",
     "output_type": "stream",
     "text": [
      "[請益]  電腦音響 羅技z213 or z313\n",
      "作者: chu1030 (啾兒)\n",
      "[請益] 煩請推薦機殼(搭配C6E主機板)\n",
      "作者: character72 ()\n",
      "[請益] geek a50搭SF750是否要用訂製線？\n",
      "作者: saurik (Jay Freeman)\n",
      "Re: [情報] 美光記憶體再降一百\n",
      "作者: xxlikb01 (GeaR)\n",
      "[菜單] 36k 剪輯遊戲機\n",
      "作者: wench5987 (Shibainu_kari)\n",
      "[閒聊] 參考菜單(20191105)與電蝦長期置底閒聊區\n",
      "作者: anedo (鷲嶺之魂)\n",
      "[公告] 本板板規 Ver 2.45 (20191022)\n",
      "作者: anedo (鷲嶺之魂)\n",
      "Re: [閒聊] 幫朋友組電腦會收錢嗎？\n",
      "作者: saisai9230 (小為)\n",
      "[情報] Win 10 1903目前的相容性問題\n",
      "作者: hn9480412 (ilinker)\n",
      "[公告] 有關於族群用詞\n",
      "作者: anedo (鷲嶺之魂)\n"
     ]
    }
   ],
   "source": [
    "url = 'https://www.ptt.cc/bbs/PC_Shopping/index.html'\n",
    "r = requests.get(url)\n",
    "\n",
    "soup = BeautifulSoup(r.text, \"html5lib\")\n",
    "for d in soup.find_all(class_=\"title\"):\n",
    "    print(d.text.replace('\\t', '').replace('\\n', ''))\n",
    "    try:\n",
    "        r = BeautifulSoup(requests.get('https://www.ptt.cc'+d.find('a')['href']).text, \"html5lib\")\n",
    "        print('作者: ' + r.find(class_='article-meta-value').text)\n",
    "    except:\n",
    "        continue"
   ]
  }
 ],
 "metadata": {
  "kernelspec": {
   "display_name": "Python 3",
   "language": "python",
   "name": "python3"
  },
  "language_info": {
   "codemirror_mode": {
    "name": "ipython",
    "version": 3
   },
   "file_extension": ".py",
   "mimetype": "text/x-python",
   "name": "python",
   "nbconvert_exporter": "python",
   "pygments_lexer": "ipython3",
   "version": "3.7.4"
  }
 },
 "nbformat": 4,
 "nbformat_minor": 2
}
